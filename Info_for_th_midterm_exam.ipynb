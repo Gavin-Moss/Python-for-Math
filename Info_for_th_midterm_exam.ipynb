{
  "nbformat": 4,
  "nbformat_minor": 0,
  "metadata": {
    "colab": {
      "name": "Info_for_th_midterm_exam.ipynb",
      "provenance": [],
      "include_colab_link": true
    },
    "kernelspec": {
      "name": "python3",
      "display_name": "Python 3"
    },
    "language_info": {
      "name": "python"
    }
  },
  "cells": [
    {
      "cell_type": "markdown",
      "metadata": {
        "id": "view-in-github",
        "colab_type": "text"
      },
      "source": [
        "<a href=\"https://colab.research.google.com/github/Gavin-Moss/Python-for-Math/blob/main/Info_for_th_midterm_exam.ipynb\" target=\"_parent\"><img src=\"https://colab.research.google.com/assets/colab-badge.svg\" alt=\"Open In Colab\"/></a>"
      ]
    },
    {
      "cell_type": "markdown",
      "source": [
        "To open this notebook on drive: https://colab.research.google.com/drive/1h6EGpoEHhB-pYAD5MR8SBhgZvOvwbwgY?usp=sharing"
      ],
      "metadata": {
        "id": "pfbK_TMh74JU"
      }
    },
    {
      "cell_type": "markdown",
      "source": [
        "## To practice for the Midterm exam"
      ],
      "metadata": {
        "id": "WxLgUGkZDrPH"
      }
    },
    {
      "cell_type": "markdown",
      "source": [
        "### Create a function that approximates $\\arctan(x)$ for $-1<x<1$ with 3 digit-precision.\n",
        "\n",
        "> Input: float between -1 and 1, Output: float.\n",
        "\n"
      ],
      "metadata": {
        "id": "zkPNqWJR52Hl"
      }
    },
    {
      "cell_type": "code",
      "source": [
        "#taylor series of 1/(1+x^2), which is the derivative of atan\n",
        "from mpmath import *\n",
        "def arctan(x):\n",
        "  #below is the taylor series for the derivative of atan\n",
        "  series = 0.0\n",
        "  for n in range(0,100):\n",
        "    series = series + (((-x)**(2))**n)\n",
        "  #now we need to integrate each term.\n",
        "  atan = 0\n",
        "  for n in range(0,100000):\n",
        "    atan = atan + (-1)**n * x**(2*n+1) /(2*n+1)\n",
        "  mp.dps = 3\n",
        "  return mpf(atan)"
      ],
      "metadata": {
        "id": "AEAeqY_dtCoI"
      },
      "execution_count": 84,
      "outputs": []
    },
    {
      "cell_type": "code",
      "source": [
        "arctan(0.5)"
      ],
      "metadata": {
        "id": "MaNdpRTzuLnR",
        "outputId": "1d055d53-3e7f-458e-b44e-b218f90d51ec",
        "colab": {
          "base_uri": "https://localhost:8080/"
        }
      },
      "execution_count": 85,
      "outputs": [
        {
          "output_type": "execute_result",
          "data": {
            "text/plain": [
              "mpf('0.463623')"
            ]
          },
          "metadata": {},
          "execution_count": 85
        }
      ]
    },
    {
      "cell_type": "markdown",
      "source": [
        "### Create a function that checks if a number is a palindrome or not\n",
        "\n",
        "> Input: integer, Output: boolean\n",
        "\n"
      ],
      "metadata": {
        "id": "C4MFB1u8e3TI"
      }
    },
    {
      "cell_type": "code",
      "source": [
        "def palindrome_check(n):\n",
        "  NumDigits = 1\n",
        "  tempN = n\n",
        "  while tempN > 1:\n",
        "    tempN = tempN/10\n",
        "    NumDigits = NumDigits + 1\n",
        "  print(NumDigits)"
      ],
      "metadata": {
        "id": "6Q3Nt4xGz1PI"
      },
      "execution_count": 101,
      "outputs": []
    },
    {
      "cell_type": "code",
      "source": [
        "palindrome_check(100)"
      ],
      "metadata": {
        "id": "UudPutcQ13Xv"
      },
      "execution_count": null,
      "outputs": []
    },
    {
      "cell_type": "markdown",
      "source": [
        "### Create a function that checks if a 13 digit number is an ISBN or not.\n",
        "> Input: 13 digit integer, Output: boolean.\n",
        "\n",
        "\n",
        "How The ISBN Check Digit Is Calculated (from https://isbn-information.com/check-digit-for-the-13-digit-isbn.html)\n",
        "\n",
        "In the previous section I calculate the check digit for a couple of example ISBNs, but didn't show my working! We'll put that right now and show the calculation for the correct number, and for both of those numbers that I entered with errors.\n",
        "\n",
        "This is the process:\n",
        "\n",
        "1. Take the first 12 digits of the 13-digit ISBN\n",
        "2. Multiply each number in turn, from left to right by a number. The first digit is multiplied by 1, the second by 3, the third by 1 gain, the fourth by 3 again, and so on to the eleventh which is multiplied by 1 and the twelfth by 3.\n",
        "3. Add all of the 12 answers.\n",
        "4. Do a modulo 10 division on the result from step 2.\n",
        "5. Take that remainder result from step 4.If it's a zero, then the check digit is zero. If the remainders isn't zero then subtract the remainder from 10. The answer to that is your check digit.\n",
        "\n",
        "\n"
      ],
      "metadata": {
        "id": "UCyMEUvEfTDR"
      }
    },
    {
      "cell_type": "markdown",
      "source": [
        "### Complete the function so it **returns** what's intended to do\n",
        "```\n",
        "def isprime_list(n):\n",
        "    ''' \n",
        "    Return a list of length n+1\n",
        "    with Trues at prime indices and Falses at composite indices.\n",
        "    '''\n",
        "    flags = [True] * (n+1)  # A list [True, True, True,...] to start.\n",
        "    flags[0] = False  # Zero is not prime.  So its flag is set to False.\n",
        "    flags[ ] = False  # One is not prime.  So its flag is set to False.\n",
        "    flags[   :   :   ] = [False] * ((n-2)//2)\n",
        "#    p =     # Initialize p\n",
        "    while                 : #Condition to sieve.\n",
        "        if     :  # We sieve the multiples of p if flags[p]=True.\n",
        "            flags[ :: ] = [False] * ((n-p*p)//(2*p)+1) # Sieves out multiples of p, starting at p*p.\n",
        "        p =  # Try the next possible value of p.\n",
        "        \n",
        "    return \n",
        "```\n",
        "Notice that there are many options to fill this function."
      ],
      "metadata": {
        "id": "XhWqNtcYDv_C"
      }
    },
    {
      "cell_type": "markdown",
      "source": [
        "### Write the result of compiling the following:\n",
        "\n",
        "```\n",
        "type(isprime_list(10))\n",
        "\n",
        "```\n",
        "\n",
        "```\n",
        "len(isprime_list(10))\n",
        "\n",
        "```\n",
        "\n",
        "```\n",
        "-12 % 5\n",
        "```\n",
        "\n",
        "```\n",
        "isprime_list[-1] \n",
        "```\n"
      ],
      "metadata": {
        "id": "HbqUZzPj44O3"
      }
    },
    {
      "cell_type": "markdown",
      "source": [
        "## Some things you should know:\n",
        "\n",
        "- Basic operations ```+ - * / // % or and not == != < > <= >=``` on different types of objects, int, floats, booleans, lists, ...\n",
        "- Basic funtions like ```type len  range format replace append ... ``` on different types of objects.\n",
        "- Create specific wated lists using ```list``` and ```range``` and slicing.\n",
        "- How to use ```for``` and ```while``` loops.\n",
        "- Control statements ```if else elif```.\n",
        "- Define and modify functions. This includes defining the inputs and outputs. Use docstring to describe a function. ```def return```\n",
        "- Raise errors (no need to know the different types, just how, where and when to use the command ```raise```)\n",
        "- Extract data from different objects (nth element of a list, or a string or a digit from a number)\n",
        "\n",
        "\n",
        "Math related:\n",
        "\n",
        "- What is a prime number.\n",
        "- Prime decomposition.\n",
        "- GCD and LCM.\n",
        "- The **Euclidean algorithm**.\n",
        "- Taylor series (Mclaurin) of the functions $e^x, \\frac{1}{1-x}$, from these ones you can deduce the series for other functions like $e^{f(x)}, \\frac{1}{1-f(x)}$ including $\\frac{1}{1+x^2}$. And you can integrate or differentiate all of them! So you can get the series for $\\arctan(x)$.\n",
        "- The **Sieve of Eratosthenes**. (You don't have to memorize the python function, just need to understand what the sieve does)\n",
        "\n",
        "\n"
      ],
      "metadata": {
        "id": "TuHRBGL3DqG3"
      }
    }
  ]
}