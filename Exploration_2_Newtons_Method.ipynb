{
  "nbformat": 4,
  "nbformat_minor": 0,
  "metadata": {
    "colab": {
      "name": "Exploration 2 - Newtons Method.ipynb",
      "provenance": [],
      "collapsed_sections": [],
      "include_colab_link": true
    },
    "kernelspec": {
      "name": "python3",
      "display_name": "Python 3"
    },
    "language_info": {
      "name": "python"
    }
  },
  "cells": [
    {
      "cell_type": "markdown",
      "metadata": {
        "id": "view-in-github",
        "colab_type": "text"
      },
      "source": [
        "<a href=\"https://colab.research.google.com/github/Gavin-Moss/Python-for-Math/blob/main/Exploration_2_Newtons_Method.ipynb\" target=\"_parent\"><img src=\"https://colab.research.google.com/assets/colab-badge.svg\" alt=\"Open In Colab\"/></a>"
      ]
    },
    {
      "cell_type": "code",
      "source": [
        "import numpy as np\n",
        "from matplotlib import pyplot as plt\n",
        "from PIL import Image"
      ],
      "metadata": {
        "id": "XaYW-TMqPq7Y"
      },
      "execution_count": 3,
      "outputs": []
    },
    {
      "cell_type": "markdown",
      "source": [
        "The effect of Newton's Method on a linear equation is trivial, so let's start our exporation with its effect on quadratics.\n",
        "\n",
        "Real line, quadratic:"
      ],
      "metadata": {
        "id": "Sidu19dcOmf0"
      }
    },
    {
      "cell_type": "code",
      "execution_count": 4,
      "metadata": {
        "id": "ynLRlwTIL62Q"
      },
      "outputs": [],
      "source": [
        "# A function that takes in the coefficients of a polynomial and an x value, then returns a y value\n",
        "def poly_point(poly_coeffs, x):\n",
        "  degree = len(poly_coeffs) - 1\n",
        "  result = 0\n",
        "  for i in range(degree + 1):\n",
        "    result += poly_coeffs[i] * x ** (degree - i)\n",
        "  return result\n",
        "\n",
        "# A function that takes in the coefficients of a polynomial and an x value, then returns its derivative at that value\n",
        "def poly_dev(poly_coeffs, x):\n",
        "  new_coeffs = np.arange(len(poly_coeffs))[:0:-1] * np.array(poly_coeffs)[:-1]\n",
        "  return poly_point(new_coeffs, x)"
      ]
    },
    {
      "cell_type": "code",
      "source": [
        "# A function that does Newton's Method\n",
        "def poly_newton(poly_coeffs, x, precision=10):\n",
        "  x0, x1 = x, x + 1\n",
        "  error = 10 ** -(precision + 2)\n",
        "  c = 0\n",
        "  while abs(x0 - x1) > error and c != 200:\n",
        "    x0, x1 = x1, x0 - poly_point(poly_coeffs, x0) / poly_dev(poly_coeffs, x0)\n",
        "    c += 1\n",
        "  if c == 200:\n",
        "    return np.pi\n",
        "  return round(x1, precision)"
      ],
      "metadata": {
        "id": "ue-xNcaoZ99w"
      },
      "execution_count": 5,
      "outputs": []
    },
    {
      "cell_type": "code",
      "source": [
        "# A function that takes in n, then returns the RGB values of n \"evenly spaced\" colors\n",
        "def evenly_spaced_colors(n):\n",
        "  colors = np.zeros([n+1, 3], dtype='uint8')\n",
        "  x_values = np.linspace(0, 1535, n+1, dtype='int')\n",
        "  for i in range(n+1):\n",
        "    if x_values[i] in range(0, 256):\n",
        "      colors[i] = [255, x_values[i], 0]\n",
        "    elif x_values[i] in range(256, 512):\n",
        "      colors[i] = [-1-x_values[i], 255, 0]\n",
        "    elif x_values[i] in range(512, 768):\n",
        "      colors[i] = [0, 255, x_values[i]]\n",
        "    elif x_values[i] in range(768, 1024):\n",
        "      colors[i] = [0, -1-x_values[i], 255]\n",
        "    elif x_values[i] in range(1024, 1280):\n",
        "      colors[i] = [x_values[i], 0, 255]\n",
        "    elif x_values[i] in range(1280, 1536):\n",
        "      colors[i] = [255, 0, -1-x_values[i]]\n",
        "  return colors[:-1]"
      ],
      "metadata": {
        "id": "T2HuIm34Fo2o"
      },
      "execution_count": 6,
      "outputs": []
    },
    {
      "cell_type": "code",
      "source": [
        "poly_newton([1, 0, -2], 1.5, 200)"
      ],
      "metadata": {
        "id": "A0k1wgXQaRJ7"
      },
      "execution_count": null,
      "outputs": []
    },
    {
      "cell_type": "code",
      "source": [
        "poly_newtonCount([1, 0, -2], 1.5, 250)"
      ],
      "metadata": {
        "id": "gSCIdgGBZ4UG"
      },
      "execution_count": null,
      "outputs": []
    },
    {
      "cell_type": "code",
      "source": [
        "poly_newton([1,3,-11,12],1000)"
      ],
      "metadata": {
        "id": "PwDKy6HEk3fr"
      },
      "execution_count": null,
      "outputs": []
    },
    {
      "cell_type": "code",
      "source": [
        "def draw_1D_poly_NM(poly_coeffs, x_int, x_fin, res=500, height=100):\n",
        "  x_destinations = np.zeros(res)\n",
        "  x_values = np.linspace(x_int, x_fin, res)\n",
        "  for i in range(res):\n",
        "    x_destinations[i] = poly_newton(poly_coeffs, x_values[i], 8)\n",
        "  bins = []\n",
        "  for i in range(res):\n",
        "    if x_destinations[i] not in bins:\n",
        "      bins.append(x_destinations[i])\n",
        "  if np.pi in bins:\n",
        "    colors = evenly_spaced_colors(len(bins) - 1)\n",
        "    bins.remove(np.pi)\n",
        "  else:\n",
        "    colors = evenly_spaced_colors(len(bins))\n",
        "  print(bins)\n",
        "  print(colors)\n",
        "  colors_dict = {}\n",
        "  for i in range(len(bins)):\n",
        "    colors_dict[bins[i]] = colors[i]\n",
        "  print(colors_dict)\n",
        "  img_arr = np.zeros([height, res, 3], dtype='uint8')\n",
        "  for i in range(res):\n",
        "    if x_destinations[i] != np.pi:\n",
        "      img_arr[:, i] = colors_dict[x_destinations[i]]\n",
        "  img = Image.fromarray(img_arr)\n",
        "  display(img)"
      ],
      "metadata": {
        "id": "ou5_sRsCGMXQ"
      },
      "execution_count": 9,
      "outputs": []
    },
    {
      "cell_type": "code",
      "source": [
        "draw_1D_poly_NM([-0.3, -0.9, 0.9, 2.5, -2.1, -1.2, 0.5], -3, 2, res=2000, height=300)"
      ],
      "metadata": {
        "id": "z6-hrA8gI2WM"
      },
      "execution_count": null,
      "outputs": []
    },
    {
      "cell_type": "markdown",
      "source": [
        "NOTES FOR ME:\n",
        "\n",
        "\n",
        "*  going to try to visualize the rate of converge of newtons method using matplotlib\n",
        "*  newton's method is an algorithm which estimates the root of polynomials"
      ],
      "metadata": {
        "id": "_ERR16hQhd3p"
      }
    },
    {
      "cell_type": "code",
      "source": [
        "# A function that counts how many times it iterates\n",
        "def poly_newtonCount(poly_coeffs, x, precision=10):\n",
        "  x0, x1 = x, x + 1\n",
        "  error = 10 ** -(precision + 2)\n",
        "  c = 0\n",
        "  while abs(x0 - x1) > error and c != 200:\n",
        "    x0, x1 = x1, x0 - poly_point(poly_coeffs, x0) / poly_dev(poly_coeffs, x0)\n",
        "    c += 1\n",
        "  if c == 200:\n",
        "    return np.pi\n",
        "  return c"
      ],
      "metadata": {
        "id": "fLvCabHxXSWt"
      },
      "execution_count": 7,
      "outputs": []
    },
    {
      "cell_type": "code",
      "source": [
        "def GraphRateOfConvergence(poly_coeffs, x):\n",
        "  #lets make a line plot to show rate of convergence?\n",
        "  #This line plot start at x=0 as our highest point, and then approach 0, as our iterations increase, as our approximation\n",
        "  #gets closer to the real root\n",
        "\n",
        "  root = poly_newton([1, 0, -2], 1.5, 100) #this is the root with precision to 100 digits\n",
        "  #error = abs((SOMETHING) - root) this something should be xn+1 everytime we iterate newtons method, but im not sure how to get that\n",
        "\n",
        "  iterations = np.arange(0,poly_newtonCount(poly_coeffs,x,1000)) #counts the iterations\n",
        "#NOTE, either i'm misunderstanding the count or our code is very efficient, cuz it seems like it always iterates 10 times \n",
        "#in this example, even with really high precision\n",
        "\n",
        "  test = np.linspace(0,poly_newton(poly_coeffs,x),10) #???\n",
        "\n",
        "  plt.figure()\n",
        "  plt.plot(iterations, test, alpha = 0.5, c = 'blue')\n",
        "  plt.title('Rate Of Convergence of Newtons Method')\n",
        "  plt.xlabel('Iterations')\n",
        "  plt.ylabel('Error') #as of right now, the y axis is definitely not the error."
      ],
      "metadata": {
        "id": "N73AlGDLi9HN"
      },
      "execution_count": 8,
      "outputs": []
    },
    {
      "cell_type": "code",
      "source": [
        "GraphRateOfConvergence([1, 0, -2], 1.5)"
      ],
      "metadata": {
        "id": "B365b5pZVaQz"
      },
      "execution_count": null,
      "outputs": []
    },
    {
      "cell_type": "markdown",
      "source": [
        "Wednesday Night: \\\\\n",
        "Right now the problem is that I need to get the values xn+1 (the new approximation after each iteration) so that I can find the error after each iteration then graph it.  \\\\\n",
        "I don't see a way to get the value of each iteration, so maybe i can make a new function?"
      ],
      "metadata": {
        "id": "CWbohqZBhCIn"
      }
    },
    {
      "cell_type": "code",
      "source": [
        "def test_poly_newton(poly_coeffs, x, precision=10):\n",
        "  x0, x1 = x, x + 1\n",
        "  error = 10 ** -(precision + 2)\n",
        "  c = 0\n",
        "  while abs(x0 - x1) > error and c != 200:\n",
        "    x0, x1 = x1, x0 - poly_point(poly_coeffs, x0) / poly_dev(poly_coeffs, x0)\n",
        "    print(x0)\n",
        "    c += 1\n",
        "  if c == 200:\n",
        "    return np.pi\n",
        "  return round(x1, precision)"
      ],
      "metadata": {
        "id": "P9I6o627i_Mw"
      },
      "execution_count": 10,
      "outputs": []
    },
    {
      "cell_type": "code",
      "source": [
        "test_poly_newton([1,0,-2] ,1.5)"
      ],
      "metadata": {
        "id": "Z_0vxiZNjELL"
      },
      "execution_count": null,
      "outputs": []
    },
    {
      "cell_type": "markdown",
      "source": [
        "it seems that this prints every value after an iteration, but obvioulsy this just prints, i need a way to call the actual value.\n",
        "  \n",
        "I feel like recursion could work ??? but we haven't learned that and i'd be very out of practice.\n",
        "\n",
        "I'll try a function that does the iteration only once."
      ],
      "metadata": {
        "id": "VZLdCVyhjPuv"
      }
    },
    {
      "cell_type": "code",
      "source": [
        "def OneIteration(poly_coeffs, x, precision=10):\n",
        "  x0, x1 = x, x + 1\n",
        "  error = 10 ** -(precision + 2)\n",
        "  \n",
        "  x0, x1 = x1, x0 - poly_point(poly_coeffs, x0) / poly_dev(poly_coeffs, x0)\n",
        "  return round(x1, precision)"
      ],
      "metadata": {
        "id": "AHSegzmODRmI"
      },
      "execution_count": 11,
      "outputs": []
    },
    {
      "cell_type": "code",
      "source": [
        "OneIteration([1,0,-2] ,1.5)"
      ],
      "metadata": {
        "colab": {
          "base_uri": "https://localhost:8080/"
        },
        "id": "vKatZFj1DzIJ",
        "outputId": "2eff2e9c-4d87-4361-8cd5-b0fcf7cfc643"
      },
      "execution_count": 17,
      "outputs": [
        {
          "output_type": "execute_result",
          "data": {
            "text/plain": [
              "1.4166666667"
            ]
          },
          "metadata": {},
          "execution_count": 17
        }
      ]
    },
    {
      "cell_type": "code",
      "source": [
        "OneIteration([1,0,-2], OneIteration([1,0,-2] , 1.5))"
      ],
      "metadata": {
        "id": "tcNkvpJ0EC9e"
      },
      "execution_count": null,
      "outputs": []
    },
    {
      "cell_type": "code",
      "source": [
        "#I'll try to make a 1D numpy array of each iteration\n",
        "AllEstimates = np.linspace(0,poly_newton([1,0,-2] ,1.5),10 )\n",
        "print(AllEstimates)\n",
        "AllEstimates[0] = 1.5 #this is our first guess\n",
        "print(AllEstimates)\n",
        "for i in range(len(AllEstimates)-1):\n",
        "  AllEstimates[i+1] = OneIteration([1,0,2], AllEstimates[i]) \n",
        "print(AllEstimates)"
      ],
      "metadata": {
        "colab": {
          "base_uri": "https://localhost:8080/"
        },
        "id": "C46qHvDlHVwz",
        "outputId": "60795f2c-0032-47f6-9965-49f7f5728c64"
      },
      "execution_count": 32,
      "outputs": [
        {
          "output_type": "stream",
          "name": "stdout",
          "text": [
            "[0.         0.15713484 0.31426968 0.47140452 0.62853936 0.7856742\n",
            " 0.94280904 1.09994388 1.25707872 1.41421356]\n",
            "[1.5        0.15713484 0.31426968 0.47140452 0.62853936 0.7856742\n",
            " 0.94280904 1.09994388 1.25707872 1.41421356]\n",
            "[  1.5          0.08333333 -11.95833334  -5.89554298  -2.77815183\n",
            "  -1.02912438   0.45713765  -1.9589561   -0.46900209   1.89768564]\n"
          ]
        }
      ]
    }
  ]
}