{
  "nbformat": 4,
  "nbformat_minor": 0,
  "metadata": {
    "colab": {
      "name": "Exploration 2 - Newtons Method.ipynb",
      "provenance": [],
      "collapsed_sections": [],
      "include_colab_link": true
    },
    "kernelspec": {
      "name": "python3",
      "display_name": "Python 3"
    },
    "language_info": {
      "name": "python"
    }
  },
  "cells": [
    {
      "cell_type": "markdown",
      "metadata": {
        "id": "view-in-github",
        "colab_type": "text"
      },
      "source": [
        "<a href=\"https://colab.research.google.com/github/Gavin-Moss/Python-for-Math/blob/main/Exploration_2_Newtons_Method.ipynb\" target=\"_parent\"><img src=\"https://colab.research.google.com/assets/colab-badge.svg\" alt=\"Open In Colab\"/></a>"
      ]
    },
    {
      "cell_type": "code",
      "source": [
        "import numpy as np\n",
        "from matplotlib import pyplot as plt\n",
        "from PIL import Image"
      ],
      "metadata": {
        "id": "XaYW-TMqPq7Y"
      },
      "execution_count": 1,
      "outputs": []
    },
    {
      "cell_type": "markdown",
      "source": [
        "The effect of Newton's Method on a linear equation is trivial, so let's start our exporation with its effect on quadratics.\n",
        "\n",
        "Real line, quadratic:"
      ],
      "metadata": {
        "id": "Sidu19dcOmf0"
      }
    },
    {
      "cell_type": "code",
      "execution_count": 3,
      "metadata": {
        "id": "ynLRlwTIL62Q"
      },
      "outputs": [],
      "source": [
        "# A function that takes in the coefficients of a polynomial and an x value, then returns a y value\n",
        "def poly_point(poly_coeffs, x):\n",
        "  degree = len(poly_coeffs) - 1\n",
        "  result = 0\n",
        "  for i in range(degree + 1):\n",
        "    result += poly_coeffs[i] * x ** (degree - i)\n",
        "  return result\n",
        "\n",
        "# A function that takes in the coefficients of a polynomial and an x value, then returns its derivative at that value\n",
        "def poly_dev(poly_coeffs, x):\n",
        "  new_coeffs = np.arange(len(poly_coeffs))[:0:-1] * np.array(poly_coeffs)[:-1]\n",
        "  return poly_point(new_coeffs, x)"
      ]
    },
    {
      "cell_type": "code",
      "source": [
        "# A function that does Newton's Method\n",
        "def poly_newton(poly_coeffs, x, precision=10):\n",
        "  x0, x1 = x, x + 1\n",
        "  error = 10 ** -(precision + 2)\n",
        "  c = 0\n",
        "  while abs(x0 - x1) > error and c != 200:\n",
        "    x0, x1 = x1, x0 - poly_point(poly_coeffs, x0) / poly_dev(poly_coeffs, x0)\n",
        "    c += 1\n",
        "  if c == 200:\n",
        "    return np.pi\n",
        "  return round(x1, precision)"
      ],
      "metadata": {
        "id": "ue-xNcaoZ99w"
      },
      "execution_count": 4,
      "outputs": []
    },
    {
      "cell_type": "code",
      "source": [
        "# A function that takes in n, then returns the RGB values of n \"evenly spaced\" colors\n",
        "def evenly_spaced_colors(n):\n",
        "  colors = np.zeros([n+1, 3], dtype='uint8')\n",
        "  x_values = np.linspace(0, 1535, n+1, dtype='int')\n",
        "  for i in range(n+1):\n",
        "    if x_values[i] in range(0, 256):\n",
        "      colors[i] = [255, x_values[i], 0]\n",
        "    elif x_values[i] in range(256, 512):\n",
        "      colors[i] = [-1-x_values[i], 255, 0]\n",
        "    elif x_values[i] in range(512, 768):\n",
        "      colors[i] = [0, 255, x_values[i]]\n",
        "    elif x_values[i] in range(768, 1024):\n",
        "      colors[i] = [0, -1-x_values[i], 255]\n",
        "    elif x_values[i] in range(1024, 1280):\n",
        "      colors[i] = [x_values[i], 0, 255]\n",
        "    elif x_values[i] in range(1280, 1536):\n",
        "      colors[i] = [255, 0, -1-x_values[i]]\n",
        "  return colors[:-1]"
      ],
      "metadata": {
        "id": "T2HuIm34Fo2o"
      },
      "execution_count": 5,
      "outputs": []
    },
    {
      "cell_type": "code",
      "source": [
        "poly_newton([1, 0, -2], 1.5, 4)"
      ],
      "metadata": {
        "id": "A0k1wgXQaRJ7"
      },
      "execution_count": null,
      "outputs": []
    },
    {
      "cell_type": "code",
      "source": [
        "poly_newton([1,3,-11,12],1000)"
      ],
      "metadata": {
        "id": "PwDKy6HEk3fr"
      },
      "execution_count": null,
      "outputs": []
    },
    {
      "cell_type": "code",
      "source": [
        "def draw_1D_poly_NM(poly_coeffs, x_int, x_fin, res=500, height=100):\n",
        "  x_destinations = np.zeros(res)\n",
        "  x_values = np.linspace(x_int, x_fin, res)\n",
        "  for i in range(res):\n",
        "    x_destinations[i] = poly_newton(poly_coeffs, x_values[i], 8)\n",
        "  bins = []\n",
        "  for i in range(res):\n",
        "    if x_destinations[i] not in bins:\n",
        "      bins.append(x_destinations[i])\n",
        "  if np.pi in bins:\n",
        "    colors = evenly_spaced_colors(len(bins) - 1)\n",
        "    bins.remove(np.pi)\n",
        "  else:\n",
        "    colors = evenly_spaced_colors(len(bins))\n",
        "  print(bins)\n",
        "  print(colors)\n",
        "  colors_dict = {}\n",
        "  for i in range(len(bins)):\n",
        "    colors_dict[bins[i]] = colors[i]\n",
        "  print(colors_dict)\n",
        "  img_arr = np.zeros([height, res, 3], dtype='uint8')\n",
        "  for i in range(res):\n",
        "    if x_destinations[i] != np.pi:\n",
        "      img_arr[:, i] = colors_dict[x_destinations[i]]\n",
        "  img = Image.fromarray(img_arr)\n",
        "  display(img)"
      ],
      "metadata": {
        "id": "ou5_sRsCGMXQ"
      },
      "execution_count": 8,
      "outputs": []
    },
    {
      "cell_type": "code",
      "source": [
        "draw_1D_poly_NM([-0.3, -0.9, 0.9, 2.5, -2.1, -1.2, 0.5], -3, 2, res=2000, height=300)"
      ],
      "metadata": {
        "id": "z6-hrA8gI2WM"
      },
      "execution_count": null,
      "outputs": []
    },
    {
      "cell_type": "markdown",
      "source": [
        "NOTES FOR ME:\n",
        "\n",
        "\n",
        "*  going to try to visualize the rate of converge of newtons method using matplotlib\n",
        "*  newton's method is an algorithm which estimates the root of polynomials"
      ],
      "metadata": {
        "id": "_ERR16hQhd3p"
      }
    },
    {
      "cell_type": "code",
      "source": [
        "def GraphRateOfConvergence():\n",
        "  poly_newton() #this function takes the coefficient of a polynomial, and performs newtons method to estimate it's roots\n",
        "  #lets make a line plot to show rate of convergence?\n",
        "  plt.figure(figsize=(15,5))\n",
        "  plt.xlabel('Number of iterations')"
      ],
      "metadata": {
        "id": "N73AlGDLi9HN"
      },
      "execution_count": 27,
      "outputs": []
    }
  ]
}