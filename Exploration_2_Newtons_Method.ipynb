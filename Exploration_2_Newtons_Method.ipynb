{
  "nbformat": 4,
  "nbformat_minor": 0,
  "metadata": {
    "colab": {
      "name": "Exploration 2 - Newtons Method.ipynb",
      "provenance": [],
      "collapsed_sections": [],
      "include_colab_link": true
    },
    "kernelspec": {
      "name": "python3",
      "display_name": "Python 3"
    },
    "language_info": {
      "name": "python"
    }
  },
  "cells": [
    {
      "cell_type": "markdown",
      "metadata": {
        "id": "view-in-github",
        "colab_type": "text"
      },
      "source": [
        "<a href=\"https://colab.research.google.com/github/Gavin-Moss/Python-for-Math/blob/main/Exploration_2_Newtons_Method.ipynb\" target=\"_parent\"><img src=\"https://colab.research.google.com/assets/colab-badge.svg\" alt=\"Open In Colab\"/></a>"
      ]
    },
    {
      "cell_type": "code",
      "source": [
        "import numpy as np\n",
        "from matplotlib import pyplot as plt\n",
        "from PIL import Image"
      ],
      "metadata": {
        "id": "XaYW-TMqPq7Y"
      },
      "execution_count": 1,
      "outputs": []
    },
    {
      "cell_type": "markdown",
      "source": [
        "The effect of Newton's Method on a linear equation is trivial, so let's start our exporation with its effect on quadratics.\n",
        "\n",
        "Real line, quadratic:"
      ],
      "metadata": {
        "id": "Sidu19dcOmf0"
      }
    },
    {
      "cell_type": "code",
      "execution_count": 2,
      "metadata": {
        "id": "ynLRlwTIL62Q"
      },
      "outputs": [],
      "source": [
        "# A function that takes in the coefficients of a polynomial and an x value, then returns a y value\n",
        "def poly_point(poly_coeffs, x):\n",
        "  degree = len(poly_coeffs) - 1\n",
        "  result = 0\n",
        "  for i in range(degree + 1):\n",
        "    result += poly_coeffs[i] * x ** (degree - i)\n",
        "  return result\n",
        "\n",
        "# A function that takes in the coefficients of a polynomial and an x value, then returns its derivative at that value\n",
        "def poly_dev(poly_coeffs, x):\n",
        "  new_coeffs = np.arange(len(poly_coeffs))[:0:-1] * np.array(poly_coeffs)[:-1]\n",
        "  return poly_point(new_coeffs, x)"
      ]
    },
    {
      "cell_type": "code",
      "source": [
        "# A function that does Newton's Method\n",
        "def poly_newton(poly_coeffs, x, precision=10):\n",
        "  x0, x1 = x, x + 1\n",
        "  error = 10 ** -(precision + 2)\n",
        "  c = 0\n",
        "  while abs(x0 - x1) > error and c != 200:\n",
        "    x0, x1 = x1, x0 - poly_point(poly_coeffs, x0) / poly_dev(poly_coeffs, x0)\n",
        "    c += 1\n",
        "  if c == 200:\n",
        "    return np.pi\n",
        "  return round(x1, precision)"
      ],
      "metadata": {
        "id": "ue-xNcaoZ99w"
      },
      "execution_count": 3,
      "outputs": []
    },
    {
      "cell_type": "code",
      "source": [
        "# A function that takes in n, then returns the RGB values of n \"evenly spaced\" colors\n",
        "def evenly_spaced_colors(n):\n",
        "  colors = np.zeros([n+1, 3], dtype='uint8')\n",
        "  x_values = np.linspace(0, 1535, n+1, dtype='int')\n",
        "  for i in range(n+1):\n",
        "    if x_values[i] in range(0, 256):\n",
        "      colors[i] = [255, x_values[i], 0]\n",
        "    elif x_values[i] in range(256, 512):\n",
        "      colors[i] = [-1-x_values[i], 255, 0]\n",
        "    elif x_values[i] in range(512, 768):\n",
        "      colors[i] = [0, 255, x_values[i]]\n",
        "    elif x_values[i] in range(768, 1024):\n",
        "      colors[i] = [0, -1-x_values[i], 255]\n",
        "    elif x_values[i] in range(1024, 1280):\n",
        "      colors[i] = [x_values[i], 0, 255]\n",
        "    elif x_values[i] in range(1280, 1536):\n",
        "      colors[i] = [255, 0, -1-x_values[i]]\n",
        "  return colors[:-1]"
      ],
      "metadata": {
        "id": "T2HuIm34Fo2o"
      },
      "execution_count": 4,
      "outputs": []
    },
    {
      "cell_type": "code",
      "source": [
        "poly_newton([1, 0, -2], 1.5, 200)"
      ],
      "metadata": {
        "id": "A0k1wgXQaRJ7"
      },
      "execution_count": null,
      "outputs": []
    },
    {
      "cell_type": "code",
      "source": [
        "poly_newtonCount([1, 0, -2], 1.5, 250)"
      ],
      "metadata": {
        "id": "gSCIdgGBZ4UG"
      },
      "execution_count": null,
      "outputs": []
    },
    {
      "cell_type": "code",
      "source": [
        "poly_newton([1,3,-11,12],1000)"
      ],
      "metadata": {
        "id": "PwDKy6HEk3fr"
      },
      "execution_count": null,
      "outputs": []
    },
    {
      "cell_type": "code",
      "source": [
        "def draw_1D_poly_NM(poly_coeffs, x_int, x_fin, res=500, height=100):\n",
        "  x_destinations = np.zeros(res)\n",
        "  x_values = np.linspace(x_int, x_fin, res)\n",
        "  for i in range(res):\n",
        "    x_destinations[i] = poly_newton(poly_coeffs, x_values[i], 8)\n",
        "  bins = []\n",
        "  for i in range(res):\n",
        "    if x_destinations[i] not in bins:\n",
        "      bins.append(x_destinations[i])\n",
        "  if np.pi in bins:\n",
        "    colors = evenly_spaced_colors(len(bins) - 1)\n",
        "    bins.remove(np.pi)\n",
        "  else:\n",
        "    colors = evenly_spaced_colors(len(bins))\n",
        "  print(bins)\n",
        "  print(colors)\n",
        "  colors_dict = {}\n",
        "  for i in range(len(bins)):\n",
        "    colors_dict[bins[i]] = colors[i]\n",
        "  print(colors_dict)\n",
        "  img_arr = np.zeros([height, res, 3], dtype='uint8')\n",
        "  for i in range(res):\n",
        "    if x_destinations[i] != np.pi:\n",
        "      img_arr[:, i] = colors_dict[x_destinations[i]]\n",
        "  img = Image.fromarray(img_arr)\n",
        "  display(img)"
      ],
      "metadata": {
        "id": "ou5_sRsCGMXQ"
      },
      "execution_count": null,
      "outputs": []
    },
    {
      "cell_type": "code",
      "source": [
        "draw_1D_poly_NM([-0.3, -0.9, 0.9, 2.5, -2.1, -1.2, 0.5], -3, 2, res=2000, height=300)"
      ],
      "metadata": {
        "id": "z6-hrA8gI2WM"
      },
      "execution_count": null,
      "outputs": []
    },
    {
      "cell_type": "markdown",
      "source": [
        "NOTES FOR ME:\n",
        "\n",
        "\n",
        "*  going to try to visualize the rate of converge of newtons method using matplotlib\n",
        "*  newton's method is an algorithm which estimates the root of polynomials"
      ],
      "metadata": {
        "id": "_ERR16hQhd3p"
      }
    },
    {
      "cell_type": "code",
      "source": [
        "# A function that counts how many times it iterates\n",
        "def poly_newtonCount(poly_coeffs, x, precision=10):\n",
        "  x0, x1 = x, x + 1\n",
        "  error = 10 ** -(precision + 2)\n",
        "  c = 0\n",
        "  while abs(x0 - x1) > error and c != 200:\n",
        "    x0, x1 = x1, x0 - poly_point(poly_coeffs, x0) / poly_dev(poly_coeffs, x0)\n",
        "    c += 1\n",
        "  if c == 200:\n",
        "    return np.pi\n",
        "  return c"
      ],
      "metadata": {
        "id": "fLvCabHxXSWt"
      },
      "execution_count": 5,
      "outputs": []
    },
    {
      "cell_type": "code",
      "source": [
        "def GraphRateOfConvergence(poly_coeffs, x):\n",
        "  #lets make a line plot to show rate of convergence?\n",
        "  #This line plot start at x=0 as our highest point, and then approach 0, as our iterations increase, as our approximation\n",
        "  #gets closer to the real root\n",
        "\n",
        "  root = poly_newton([1, 0, -2], 1.5, 100) #this is the root with precision to 100 digits\n",
        "  #error = abs((SOMETHING) - root) this something should be xn+1 everytime we iterate newtons method, but im not sure how to get that\n",
        "\n",
        "  iterations = np.arange(0,poly_newtonCount(poly_coeffs,x,1000)) #counts the iterations\n",
        "#NOTE, either i'm misunderstanding the count or our code is very efficient, cuz it seems like it always iterates 10 times \n",
        "#in this example, even with really high precision\n",
        "\n",
        "  test = np.linspace(0,poly_newton(poly_coeffs,x),10) #???\n",
        "\n",
        "  plt.figure()\n",
        "  plt.plot(iterations, test, alpha = 0.5, c = 'blue')\n",
        "  plt.title('Rate Of Convergence of Newtons Method')\n",
        "  plt.xlabel('Iterations')\n",
        "  plt.ylabel('Error') #as of right now, the y axis is definitely not the error."
      ],
      "metadata": {
        "id": "N73AlGDLi9HN"
      },
      "execution_count": 6,
      "outputs": []
    },
    {
      "cell_type": "code",
      "source": [
        "GraphRateOfConvergence([1, 0, -2], 1.5)"
      ],
      "metadata": {
        "id": "B365b5pZVaQz"
      },
      "execution_count": null,
      "outputs": []
    },
    {
      "cell_type": "markdown",
      "source": [
        "Wednesday Night: \\\\\n",
        "Right now the problem is that I need to get the values xn+1 (the new approximation after each iteration) so that I can find the error after each iteration then graph it.  \\\\\n",
        "I don't see a way to get the value of each iteration, so maybe i can make a new function?"
      ],
      "metadata": {
        "id": "CWbohqZBhCIn"
      }
    },
    {
      "cell_type": "code",
      "source": [
        "def test_poly_newton(poly_coeffs, x, precision=10):\n",
        "  x0, x1 = x, x + 1\n",
        "  error = 10 ** -(precision + 2)\n",
        "  c = 0\n",
        "  while abs(x0 - x1) > error and c != 200:\n",
        "    x0, x1 = x1, x0 - poly_point(poly_coeffs, x0) / poly_dev(poly_coeffs, x0)\n",
        "    print(x0)\n",
        "    c += 1\n",
        "  if c == 200:\n",
        "    return np.pi\n",
        "  return round(x1, precision)"
      ],
      "metadata": {
        "id": "P9I6o627i_Mw"
      },
      "execution_count": 8,
      "outputs": []
    },
    {
      "cell_type": "code",
      "source": [
        "test_poly_newton([1,0,-2] ,1.5)"
      ],
      "metadata": {
        "id": "Z_0vxiZNjELL"
      },
      "execution_count": null,
      "outputs": []
    },
    {
      "cell_type": "markdown",
      "source": [
        "it seems that this prints every value after an iteration, but obvioulsy this just prints, i need a way to call the actual value.\n",
        "  \n",
        "I feel like recursion could work ??? but we haven't learned that and i'd be very out of practice.\n",
        "\n",
        "I'll try a function that does the iteration only once."
      ],
      "metadata": {
        "id": "VZLdCVyhjPuv"
      }
    },
    {
      "cell_type": "code",
      "source": [
        "def OneIteration(poly_coeffs, x, precision=10):\n",
        "  if poly_dev(poly_coeffs,x) == 0:\n",
        "    raise ValueError('Out of Basin')\n",
        "  x0, x1 = x, x + 1\n",
        "  error = 10 ** -(precision + 2)\n",
        "\n",
        "  x0, x1 = x1, x0 - poly_point(poly_coeffs, x0) / poly_dev(poly_coeffs, x0)\n",
        "  return round(x1, precision)"
      ],
      "metadata": {
        "id": "AHSegzmODRmI"
      },
      "execution_count": 10,
      "outputs": []
    },
    {
      "cell_type": "code",
      "source": [
        "OneIteration([1,0,-2] ,1.5)"
      ],
      "metadata": {
        "id": "vKatZFj1DzIJ"
      },
      "execution_count": null,
      "outputs": []
    },
    {
      "cell_type": "code",
      "source": [
        "OneIteration([1,0,-2], OneIteration([1,0,-2] , 1.5))"
      ],
      "metadata": {
        "id": "tcNkvpJ0EC9e"
      },
      "execution_count": null,
      "outputs": []
    },
    {
      "cell_type": "code",
      "source": [
        "#I'll try to make a 1D numpy array of each iteration\n",
        "AllEstimates = np.linspace(1.5,poly_newton([1,0,-2] ,1.5),10 ) #starts at 1.5 cuz thats our first guess\n",
        "print(AllEstimates)\n",
        "\n",
        "for i in range(len(AllEstimates)-1):\n",
        "  AllEstimates[i+1] = OneIteration([1,0,-2], AllEstimates[i]) # this array should be the array of each iteration\n",
        "  #til we converged to the root\n",
        "print(AllEstimates)\n",
        "\n",
        "#now lets try to make it a plot\n",
        "iterations = np.arange(0,poly_newtonCount([1,0,-2],1.5,1000))\n",
        "plt.figure()\n",
        "plt.plot(iterations, AllEstimates, alpha = 0.5, c = 'blue')\n",
        "plt.title('Rate Of Convergence of Newtons Method')\n",
        "plt.xlabel('Iterations')\n",
        "plt.ylabel('Approximation of root')\n",
        "#well the graph... works! but since our guess is kind of far off it's hard to see anything\n",
        "#but you can see that the first iteration works very well, then the 2nd optimizes it,\n",
        "#then after the 2nd, its practically correct."
      ],
      "metadata": {
        "id": "C46qHvDlHVwz"
      },
      "execution_count": null,
      "outputs": []
    },
    {
      "cell_type": "code",
      "source": [
        "#The above code has some noticable flaws, but it works. \n",
        "#I'll try to create a function that takes actual inputs, since the above code only uses one example.\n",
        "def GraphRateOfConvergence2(poly_coeffs,x):\n",
        "  root = poly_newton(poly_coeffs, x, 100) #this is the root with precision to 100 digits\n",
        "  #error = abs((SOMETHING) - root) this something should be xn+1 everytime we iterate newtons method, but im not sure how to get that\n",
        "\n",
        "  iterations = np.linspace(0,10,poly_newtonCount(poly_coeffs,x,10)) #counts the iterations\n",
        "\n",
        "  Approximations = np.linspace(x, root, poly_newtonCount(poly_coeffs,x))\n",
        "  for i in range(len(Approximations)-1):\n",
        "    Approximations[i+1] = OneIteration(poly_coeffs, Approximations[i])\n",
        "\n",
        "  plt.figure()\n",
        "  plt.plot(iterations, Approximations, alpha = 0.5, c = 'blue')\n",
        "  plt.title('Rate Of Convergence of Newtons Method')\n",
        "  plt.xlabel('Iterations')\n",
        "  plt.ylabel('Approximations')\n",
        "\n",
        "  Error = Approximations\n",
        "  for j in range(len(Approximations)):\n",
        "    Error[j] = abs(root - Approximations[j])\n",
        "    Approximations[j] = Error[j]\n",
        "  #plt.plot(iterations,Error)"
      ],
      "metadata": {
        "id": "f3TZOJwfekNC"
      },
      "execution_count": 21,
      "outputs": []
    },
    {
      "cell_type": "code",
      "source": [
        "GraphRateOfConvergence2([1,0,-2],-5)\n",
        "#I have a problem that my array for the iterations is not always the same lengths\n",
        "#as the arrays for the approximations\n",
        "#ACTUALLY I THINK I DID IT i changed iterations to be of linspace instead of arange\n",
        "\n",
        "#this graph shows, with an initial guess of -5, newton's method converging\n",
        "#to the root of x^2 - 2 = 0 (the root closer to the guess)\n",
        "#the blue is the error, and the purple are the actual approximations, but they seem to be same graph\n",
        "#just shifted vertically by the value of the root\n",
        "\n",
        "GraphRateOfConvergence2([1,-5,5,-1],-2) #error ???\n",
        "\n",
        "GraphRateOfConvergence2([1,0,0,-21],4) #x^3 - 21 = 0, with a guess of 4"
      ],
      "metadata": {
        "id": "qOfvWNhEfpO2",
        "colab": {
          "base_uri": "https://localhost:8080/",
          "height": 851
        },
        "outputId": "f953caff-d25a-47e4-94c9-fe9632df5e7e"
      },
      "execution_count": 32,
      "outputs": [
        {
          "output_type": "display_data",
          "data": {
            "image/png": "[encoded data removed]",
            "text/plain": [
              "<Figure size 432x288 with 1 Axes>"
            ]
          },
          "metadata": {
            "needs_background": "light"
          }
        },
        {
          "output_type": "display_data",
          "data": {
            "image/png": "[encoded data removed]",
            "text/plain": [
              "<Figure size 432x288 with 1 Axes>"
            ]
          },
          "metadata": {
            "needs_background": "light"
          }
        },
        {
          "output_type": "display_data",
          "data": {
            "image/png": "[encoded data removed]",
            "text/plain": [
              "<Figure size 432x288 with 1 Axes>"
            ]
          },
          "metadata": {
            "needs_background": "light"
          }
        }
      ]
    },
    {
      "cell_type": "markdown",
      "source": [
        "Below is jesse's code that has an updated polynewton method, it also takes the number of steps as input rather than precision. I'll need to look over my code to so that it all works with this updated function. I imagine ill need to change my count function for sure, and probably my oneiteration function as well.\n"
      ],
      "metadata": {
        "id": "C1yOY9gZgebz"
      }
    },
    {
      "cell_type": "code",
      "source": [
        "# A function that takes in the coefficients of a polynomial, an x value, and a number of steps, then applies Newton's Method for the amount of steps or until terminal behaivor is reached (to 15 digits of precision)\n",
        "def UPDATEDpoly_newton(poly_coeffs, x, steps=100):\n",
        "  x0 = x\n",
        "  x_list = []\n",
        "  for i in range(steps):\n",
        "    x0 -= poly_point(poly_coeffs, x0) / poly_dev(poly_coeffs, x0)  # Newton's Method: x1 = x0 - f(x0) / f'(x0)\n",
        "    if x0 in x_list:  # If x0 ever becomes what it was before (to 15 digits of precision), then it will begin repeating itself and more calculations are not needed\n",
        "      return x0\n",
        "    x_list.append(x0)  # Adds each x0 to a list\n",
        "  return x0  # If all of the steps are completed without a repeat x0 being found, returns last x0"
      ],
      "metadata": {
        "id": "Gz1WkEXYgb3X"
      },
      "execution_count": 46,
      "outputs": []
    },
    {
      "cell_type": "code",
      "source": [
        "def UPDATEDOneIteration(poly_coeffs, x):\n",
        "  if poly_dev(poly_coeffs,x) == 0:\n",
        "    raise ValueError('Out of Basin')\n",
        "  return UPDATEDpoly_newton(poly_coeffs,x,1)"
      ],
      "metadata": {
        "id": "X6VcUHBOhRCV"
      },
      "execution_count": 47,
      "outputs": []
    },
    {
      "cell_type": "code",
      "source": [
        "def FINALGraphRateOfConvergence(poly_coeffs,x,steps = 10):\n",
        "  root = UPDATEDpoly_newton(poly_coeffs, x, 100) #this is the root with precision to 100 digits\n",
        "\n",
        "  iterations = np.linspace(0,10,steps) #counts the iterations\n",
        "\n",
        "  Approximations = np.linspace(x, root, steps)\n",
        "  for i in range(len(Approximations)-1):\n",
        "    Approximations[i+1] = UPDATEDOneIteration(poly_coeffs, Approximations[i])\n",
        "\n",
        "  plt.figure()\n",
        "  plt.plot(iterations, Approximations, alpha = 0.5, c = 'blue')\n",
        "  plt.title('Rate Of Convergence of Newtons Method')\n",
        "  plt.xlabel('Iterations')\n",
        "  plt.ylabel('Approximations')\n"
      ],
      "metadata": {
        "id": "1tYVVJhVg38L"
      },
      "execution_count": 60,
      "outputs": []
    },
    {
      "cell_type": "code",
      "source": [
        "FINALGraphRateOfConvergence([1,0,-2],2)\n",
        "FINALGraphRateOfConvergence([1,-2,-11,12],5)"
      ],
      "metadata": {
        "colab": {
          "base_uri": "https://localhost:8080/",
          "height": 573
        },
        "id": "B-Gekn8WhzZf",
        "outputId": "5699f8c0-34c1-4fce-d0a6-03a86eab94ad"
      },
      "execution_count": 62,
      "outputs": [
        {
          "output_type": "display_data",
          "data": {
            "image/png": "[encoded data removed]",
            "text/plain": [
              "<Figure size 432x288 with 1 Axes>"
            ]
          },
          "metadata": {
            "needs_background": "light"
          }
        },
        {
          "output_type": "display_data",
          "data": {
            "image/png": "[encoded data removed]",
            "text/plain": [
              "<Figure size 432x288 with 1 Axes>"
            ]
          },
          "metadata": {
            "needs_background": "light"
          }
        }
      ]
    }
  ]
}