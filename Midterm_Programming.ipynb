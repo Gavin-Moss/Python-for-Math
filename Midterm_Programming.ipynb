{
  "nbformat": 4,
  "nbformat_minor": 0,
  "metadata": {
    "colab": {
      "name": "Midterm_Programming.ipynb",
      "provenance": [],
      "collapsed_sections": [],
      "include_colab_link": true
    },
    "kernelspec": {
      "name": "python3",
      "display_name": "Python 3"
    },
    "language_info": {
      "name": "python"
    }
  },
  "cells": [
    {
      "cell_type": "markdown",
      "metadata": {
        "id": "view-in-github",
        "colab_type": "text"
      },
      "source": [
        "<a href=\"https://colab.research.google.com/github/Gavin-Moss/Python-for-Math/blob/main/Midterm_Programming.ipynb\" target=\"_parent\"><img src=\"https://colab.research.google.com/assets/colab-badge.svg\" alt=\"Open In Colab\"/></a>"
      ]
    },
    {
      "cell_type": "markdown",
      "source": [
        "#Midterm Exam - Math 152 - Programming part\n",
        "\n",
        "Upload an .ipynb file to canvas"
      ],
      "metadata": {
        "id": "DksSzu8V2Oco"
      }
    },
    {
      "cell_type": "markdown",
      "source": [
        "# Four divisors\n",
        "Create a function ``` four_divisors(n) ``` that ```returns``` the ```list``` of numbers less than $n$ wich divisors are only $1, p, q, n$ with $p\\neq q$ primes. For example:\n",
        "\n",
        "```four_divisors(25) = [6, 10, 14, 15, 21, 22]```\n",
        "\n",
        "Hint: look at the multiplication of different primes, you can use ```where(L)``` and ```isprime_list(n)```\n",
        "\n",
        "> Input : positive integer\n",
        "\n",
        "> Output: list\n",
        "\n"
      ],
      "metadata": {
        "id": "ezSUQqgO9qX-"
      }
    },
    {
      "cell_type": "code",
      "source": [
        "from math import sqrt\n",
        "def isprime_list(n):\n",
        "    ''' \n",
        "    Return a list of length n+1\n",
        "    with Trues at prime indices and Falses at composite indices.\n",
        "    '''\n",
        "    flags = [True] * (n+1)  # A list [True, True, True,...] to start.\n",
        "    flags[0] = False  # Zero is not prime.  So its flag is set to False.\n",
        "    flags[1] = False  # One is not prime.  So its flag is set to False.\n",
        "    flags[4::2] = [False] * ((n-2)//2)\n",
        "    p = 3\n",
        "    while p <= sqrt(n):  # We only need to sieve by p is p <= sqrt(n).\n",
        "        if flags[p]:  # We sieve the multiples of p if flags[p]=True.\n",
        "            flags[p*p::2*p] = [False] * ((n-p*p)//(2*p)+1) # Sieves out multiples of p, starting at p*p.\n",
        "        p = p + 2 # Try the next value of p.\n",
        "        \n",
        "    return flags\n",
        "    \n",
        "def where(L):\n",
        "    '''\n",
        "    Take a list of booleans as input and\n",
        "    outputs the list of indices where True occurs.\n",
        "    '''\n",
        "    return [n for n in range(len(L)) if L[n]]"
      ],
      "metadata": {
        "id": "Qxs3rYzoS7UM"
      },
      "execution_count": 81,
      "outputs": []
    },
    {
      "cell_type": "code",
      "source": [
        "#Your answer goes here\n",
        "def four_divisors(n):\n",
        "#first lets get the list of prime numbers\n",
        "\n",
        "  primes = where(isprime_list(n))\n",
        "\n",
        "#lets also get a list of all numbers up to n\n",
        "\n",
        "  NumbersToN = []\n",
        "  for i in range(1,n+1):\n",
        "    NumbersToN.append(i)\n",
        "\n",
        "  FourDivisorsList = []\n",
        "  for j in range(len(NumbersToN)):\n",
        "    for k in range(len(primes)):\n",
        "\n",
        "      if NumbersToN[j] % primes[k] == 0:\n",
        "        FourDivisorsList.append(NumbersToN[j])\n",
        "      #need to add some 'and' condition so that it doesn't add the wrong numbers\n",
        "      #but ive gotten every correct number to be entered twice ... (but also some wrong numberes are entered twice)\n",
        "\n",
        "  return FourDivisorsList"
      ],
      "metadata": {
        "id": "fEmoCVqTVY6f"
      },
      "execution_count": 216,
      "outputs": []
    },
    {
      "cell_type": "code",
      "source": [
        "four_divisors(25)"
      ],
      "metadata": {
        "id": "Khd92Q8-sRKX"
      },
      "execution_count": null,
      "outputs": []
    },
    {
      "cell_type": "markdown",
      "source": [
        "# Taylor Series \n",
        "Using Taylor series, define a function ```exp_plus_atan(x)``` that approximates \n",
        "\n",
        "$$e^{x} + \\arctan(x) $$\n",
        "\n",
        "for $x\\in (-1,1)$ with a precision of 5 digits.\n",
        "\n",
        "Remember that \n",
        "\n",
        "$$\\arctan(x) = x - \\frac{x^3}{3} + \\frac{x^5}{5} - \\cdots$$\n",
        "\n",
        "> Input : float in (-1,1)\n",
        "\n",
        "> Output: float\n"
      ],
      "metadata": {
        "id": "uVvEE0YKARyU"
      }
    },
    {
      "cell_type": "code",
      "source": [
        "from mpmath import *"
      ],
      "metadata": {
        "id": "mwyqEfCWndK6"
      },
      "execution_count": 82,
      "outputs": []
    },
    {
      "cell_type": "code",
      "source": [
        "#Your answer goes here\n",
        "def exp_plus_atan(x):\n",
        "  if x >= 1 or x <= -1:\n",
        "    raise ValueError('x must be between 1 and -1')\n",
        "    \n",
        "#lets start with just the t\"aylor series of e^x\n",
        "# 1 + x^2/2! + x^3/3! + x^4/4!...\n",
        "  e = 1\n",
        "  factorial = 1\n",
        "  for i in range (1,100):\n",
        "    factorial = i * factorial\n",
        "    e = e + x**i/(factorial) \n",
        "\n",
        "# now lets do the taylor series of atan\n",
        "  atan = 0\n",
        "  for j in range(1000):\n",
        "    atan = atan + (-1)**j * (x**(2*j + 1) / (2*j+1))\n",
        "\n",
        "#now for the digit precision\n",
        "  mp.dps = 3\n",
        "\n",
        "#now we output the sum of the 2\n",
        "  return mpf(e + atan)"
      ],
      "metadata": {
        "id": "J71lp-NcUcl_"
      },
      "execution_count": 85,
      "outputs": []
    },
    {
      "cell_type": "code",
      "source": [
        "print(mp)\n",
        "#not sure why, but a dps of 3 seems to give 5 digits"
      ],
      "metadata": {
        "id": "Pmhu5MzUq9_d"
      },
      "execution_count": null,
      "outputs": []
    },
    {
      "cell_type": "code",
      "source": [
        "exp_plus_atan(0.5)"
      ],
      "metadata": {
        "id": "MgGrbqFuonz8"
      },
      "execution_count": null,
      "outputs": []
    }
  ]
}